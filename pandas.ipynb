{
 "cells": [
  {
   "cell_type": "markdown",
   "metadata": {},
   "source": [
    "# 판다스(Pandas)"
   ]
  },
  {
   "cell_type": "markdown",
   "metadata": {},
   "source": [
    "# 1. 시리즈(Series)"
   ]
  },
  {
   "cell_type": "markdown",
   "metadata": {},
   "source": [
    "## 1) 생성 및 조회"
   ]
  },
  {
   "cell_type": "markdown",
   "metadata": {},
   "source": [
    "<table>\n",
    "    <thead>\n",
    "        <tr>\n",
    "            <th>이름</th><th>나이</th><th>키</th>\n",
    "        </tr>\n",
    "    </thead>\n",
    "    <tbody>\n",
    "        <tr><td>김영철</td><td>24</td><td>179.4</td></tr>\n",
    "        <tr><td>송윤지</td><td>31</td><td>161.0</td></tr>\n",
    "        <tr><td>임수현</td><td>26</td><td>174</td></tr>\n",
    "    </tbody>\n",
    "</table>"
   ]
  },
  {
   "cell_type": "markdown",
   "metadata": {},
   "source": [
    "### (1) 데이터만 생성"
   ]
  },
  {
   "cell_type": "code",
   "execution_count": null,
   "metadata": {},
   "outputs": [
    {
     "name": "stdout",
     "output_type": "stream",
     "text": [
      "0    a\n",
      "1    b\n",
      "2    c\n",
      "dtype: object\n",
      "0    10\n",
      "1    20\n",
      "2    30\n",
      "dtype: int64\n",
      "0    10.1\n",
      "1    20.1\n",
      "2    30.0\n",
      "dtype: float64\n"
     ]
    }
   ],
   "source": [
    "import pandas as pd\n",
    "\n",
    "# Series : 열\n",
    "data1 = pd.Series(data=['a', 'b', 'c'])\n",
    "data2 = pd.Series(data=[10, 20, 30])\n",
    "data3 = pd.Series(data=[10.1, 20.1, 30])\n",
    "\n",
    "print(data1) # dtype이 object > int가 필요하면 변환 해줘야 함\n",
    "print(data2)\n",
    "print(data3)"
   ]
  },
  {
   "cell_type": "markdown",
   "metadata": {},
   "source": [
    "### (2) 인덱스와 함께 생성"
   ]
  },
  {
   "cell_type": "code",
   "execution_count": null,
   "metadata": {},
   "outputs": [
    {
     "name": "stdout",
     "output_type": "stream",
     "text": [
      "kim     24\n",
      "lee     31\n",
      "park    26\n",
      "dtype: int64\n",
      "Index(['kim', 'lee', 'park'], dtype='object')\n",
      "[24 31 26]\n",
      "<class 'numpy.ndarray'>\n"
     ]
    }
   ],
   "source": [
    "age_data = pd.Series(\n",
    "    index=['kim', 'lee', 'park'], # 유니크한 값으로만 가능\n",
    "    data=[24,31, 26]\n",
    ")\n",
    "\n",
    "print(age_data)\n",
    "print(age_data.index) # object\n",
    "print(age_data.values)\n",
    "print(type(age_data.values)) # <class 'numpy.ndarray'>"
   ]
  },
  {
   "cell_type": "markdown",
   "metadata": {},
   "source": [
    "## 2) 연산"
   ]
  },
  {
   "cell_type": "code",
   "execution_count": 18,
   "metadata": {},
   "outputs": [
    {
     "name": "stdout",
     "output_type": "stream",
     "text": [
      "0    10\n",
      "1    40\n",
      "2    90\n",
      "dtype: int64\n"
     ]
    }
   ],
   "source": [
    "data1 = pd.Series(data=[10,20,30])\n",
    "data1 = pd.Series(data=[1,2,3])\n",
    "\n",
    "data3 = data1 * data2\n",
    "print(data3)"
   ]
  },
  {
   "cell_type": "markdown",
   "metadata": {},
   "source": [
    "## 3) 결측치"
   ]
  },
  {
   "cell_type": "code",
   "execution_count": 20,
   "metadata": {},
   "outputs": [
    {
     "name": "stdout",
     "output_type": "stream",
     "text": [
      "0    1.0\n",
      "1    NaN\n",
      "dtype: float64\n"
     ]
    }
   ],
   "source": [
    "import numpy as np\n",
    "import pandas as pd\n",
    "\n",
    "data = pd.Series([1, np.nan])\n",
    "print(data)"
   ]
  },
  {
   "cell_type": "markdown",
   "metadata": {},
   "source": [
    "### (1) 결측치 발생"
   ]
  },
  {
   "cell_type": "markdown",
   "metadata": {},
   "source": [
    "예제\n",
    "* 데이터가 10, 20, 30인 시리즈 생성, 인덱스는 부산, 울산, 대구으로 설정\n",
    "* 데이터가 1, 2, 3, 4인 시리즈 생성, 인덱스는 광주, 부산, 울산, 대구으로 설정\n",
    "* 데이터의 덧셈"
   ]
  },
  {
   "cell_type": "code",
   "execution_count": 62,
   "metadata": {},
   "outputs": [
    {
     "name": "stdout",
     "output_type": "stream",
     "text": [
      "광주     NaN\n",
      "대구    34.0\n",
      "부산    12.0\n",
      "울산    23.0\n",
      "dtype: float64\n"
     ]
    }
   ],
   "source": [
    "# '광주' 라는 index가 불일치하는 상황\n",
    "# index 기준으로 data 연산(index가 없으면 순서대로 연산)\n",
    "\n",
    "data1 = pd.Series([10,20,30], index=['부산','울산','대구'])\n",
    "data2 = pd.Series([1,2,3,4], index=['광주','부산','울산','대구'])\n",
    "\n",
    "data3 = data1+data2\n",
    "print(data3)"
   ]
  },
  {
   "cell_type": "markdown",
   "metadata": {},
   "source": [
    "### (2) 결측치 파악"
   ]
  },
  {
   "cell_type": "code",
   "execution_count": 54,
   "metadata": {},
   "outputs": [
    {
     "name": "stdout",
     "output_type": "stream",
     "text": [
      "<class 'pandas.core.series.Series'>\n",
      "Index: 4 entries, 광주 to 울산\n",
      "Series name: None\n",
      "Non-Null Count  Dtype  \n",
      "--------------  -----  \n",
      "3 non-null      float64\n",
      "dtypes: float64(1)\n",
      "memory usage: 64.0+ bytes\n"
     ]
    }
   ],
   "source": [
    "data3.info()\n",
    "\n",
    "# 4 entries - 3 non-null = 1 null(결측치)"
   ]
  },
  {
   "cell_type": "code",
   "execution_count": 55,
   "metadata": {},
   "outputs": [
    {
     "data": {
      "text/plain": [
       "광주     True\n",
       "대구    False\n",
       "부산    False\n",
       "울산    False\n",
       "dtype: bool"
      ]
     },
     "execution_count": 55,
     "metadata": {},
     "output_type": "execute_result"
    }
   ],
   "source": [
    "data3.isna() # 결측치에 True 표현"
   ]
  },
  {
   "cell_type": "code",
   "execution_count": 56,
   "metadata": {},
   "outputs": [
    {
     "data": {
      "text/plain": [
       "np.int64(1)"
      ]
     },
     "execution_count": 56,
     "metadata": {},
     "output_type": "execute_result"
    }
   ],
   "source": [
    "data3.isna().sum() # 결측치의 숫자 더하기"
   ]
  },
  {
   "cell_type": "markdown",
   "metadata": {},
   "source": [
    "### (3) 결측치 채우기"
   ]
  },
  {
   "cell_type": "code",
   "execution_count": 68,
   "metadata": {},
   "outputs": [
    {
     "name": "stdout",
     "output_type": "stream",
     "text": [
      "대구    34.0\n",
      "부산    12.0\n",
      "울산    23.0\n",
      "dtype: float64\n"
     ]
    }
   ],
   "source": [
    "# 뭘로 채우느냐는 주관적 판단(평균, 예측치)\n",
    "data4 = data3.fillna(0) # 원본 data에 재할당 필요\n",
    "print(data4)"
   ]
  },
  {
   "cell_type": "markdown",
   "metadata": {},
   "source": [
    "### (4) 결측치 삭제"
   ]
  },
  {
   "cell_type": "code",
   "execution_count": null,
   "metadata": {},
   "outputs": [
    {
     "name": "stdout",
     "output_type": "stream",
     "text": [
      "대구    34.0\n",
      "부산    12.0\n",
      "울산    23.0\n",
      "dtype: float64\n"
     ]
    }
   ],
   "source": [
    "#data5 = data3.dropna()\n",
    "data3.dropna(inplace=True) #재할당 필요 없음(data3에)\n",
    "print(data3)\n"
   ]
  },
  {
   "cell_type": "markdown",
   "metadata": {},
   "source": [
    "## 4) 통계"
   ]
  },
  {
   "cell_type": "markdown",
   "metadata": {},
   "source": [
    "예제. 문자 데이터\n",
    "\n",
    "```\n",
    "['HR', 'Engineering', 'HR', 'Engineering', 'HR', 'Marketing', 'Engineering', 'Marketing', 'HR']\n",
    "```"
   ]
  },
  {
   "cell_type": "code",
   "execution_count": 76,
   "metadata": {},
   "outputs": [
    {
     "data": {
      "text/plain": [
       "count      9\n",
       "unique     3\n",
       "top       HR\n",
       "freq       4\n",
       "dtype: object"
      ]
     },
     "execution_count": 76,
     "metadata": {},
     "output_type": "execute_result"
    }
   ],
   "source": [
    "data = pd.Series(\n",
    "    data=['HR', 'Engineering', 'HR', 'Engineering', 'HR', 'Marketing', 'Engineering', 'Marketing', 'HR']\n",
    ")\n",
    "\n",
    "data.describe() # 문자열과 숫자의 결과가 다름"
   ]
  },
  {
   "cell_type": "code",
   "execution_count": 75,
   "metadata": {},
   "outputs": [
    {
     "name": "stdout",
     "output_type": "stream",
     "text": [
      "10\n",
      "20.0\n",
      "100.0\n",
      "10.0\n",
      "30\n",
      "count     3.0\n",
      "mean     20.0\n",
      "std      10.0\n",
      "min      10.0\n",
      "25%      15.0\n",
      "50%      20.0\n",
      "75%      25.0\n",
      "max      30.0\n",
      "dtype: float64\n"
     ]
    }
   ],
   "source": [
    "data = pd.Series(\n",
    "    index=['부산', '울산', '대구'],\n",
    "    data=[10, 20, 30]\n",
    ")\n",
    "\n",
    "print(data.min())\n",
    "print(data.mean())\n",
    "print(data.var()) # 분산\n",
    "print(data.std()) # 표준편차 : root 분산() - 제곱수인 분산을 좀 더 줄임\n",
    "print(data.max())\n",
    "\n",
    "print(data.describe())\n"
   ]
  },
  {
   "cell_type": "markdown",
   "metadata": {},
   "source": [
    "# 2. 데이터프레임(DataFrame)"
   ]
  },
  {
   "cell_type": "markdown",
   "metadata": {},
   "source": [
    "## 1) 생성"
   ]
  },
  {
   "cell_type": "markdown",
   "metadata": {},
   "source": [
    "<table>\n",
    "    <thead>\n",
    "        <tr>\n",
    "            <th>이름</th><th>성별</th><th>나이</th><th>키</th>\n",
    "        </tr>\n",
    "    </thead>\n",
    "    <tbody>\n",
    "        <tr><td>김영철</td><th>M</th><td>24</td><td>179.4</td></tr>\n",
    "        <tr><td>송윤지</td><th>F</th><td>31</td><td>161.0</td></tr>\n",
    "        <tr><td>임수현</td><th>F</th><td>26</td><td>174</td></tr>\n",
    "    </tbody>\n",
    "</table>"
   ]
  },
  {
   "cell_type": "code",
   "execution_count": 108,
   "metadata": {},
   "outputs": [
    {
     "name": "stdout",
     "output_type": "stream",
     "text": [
      "    이름 성별  나이      키\n",
      "0  김영철  M  24  179.4\n",
      "1  송윤지  F  31  161.0\n",
      "2  임수현  F  26  174.0\n",
      "    성별  나이      키\n",
      "이름               \n",
      "김영철  M  24  179.4\n",
      "송윤지  F  31  161.0\n",
      "임수현  F  26  174.0\n",
      "    이름 성별  나이      키\n",
      "0  김영철  M  24  179.4\n",
      "1  송윤지  F  31  161.0\n",
      "2  임수현  F  26  174.0\n"
     ]
    }
   ],
   "source": [
    "data_list = [\n",
    "    ['김영철', 'M', 24, 179.4],\n",
    "    ['송윤지', 'F', 31, 161.0],\n",
    "    ['임수현', 'F', 26, 174]\n",
    "]\n",
    "\n",
    "data1 = pd.DataFrame(data_list, columns=['이름', '성별', '나이', '키'])\n",
    "#data1.columns = ['이름', '성별', '나이', '키']\n",
    "\n",
    "print(data1)\n",
    "\n",
    "data4 = data1.set_index('이름') # index 설정, 다른 table과 join할때 활용 \n",
    "print(data4)\n",
    "\n",
    "data5 = data4.reset_index()\n",
    "print(data5)\n"
   ]
  },
  {
   "cell_type": "code",
   "execution_count": 86,
   "metadata": {},
   "outputs": [
    {
     "name": "stdout",
     "output_type": "stream",
     "text": [
      "    이름 성별  나이      키\n",
      "0  김영철  M  24  179.4\n",
      "1  송윤지  F  31  161.0\n",
      "2  임수현  F  26  174.0\n"
     ]
    }
   ],
   "source": [
    "data_col_dict = {\n",
    "    '이름' : ['김영철','송윤지','임수현'],\n",
    "    '성별' : ['M','F','F'],\n",
    "    '나이' : [24,31,26],\n",
    "    '키' : [179.4,161.0,174]\n",
    "}\n",
    "\n",
    "data2 = pd.DataFrame(data_col_dict)\n",
    "print(data2)"
   ]
  },
  {
   "cell_type": "code",
   "execution_count": null,
   "metadata": {},
   "outputs": [
    {
     "name": "stdout",
     "output_type": "stream",
     "text": [
      "    이름 성별  나이      키\n",
      "0  김영철  M  24  179.4\n",
      "1  송윤지  F  31  161.0\n",
      "2  임수현  F  26  174.0\n"
     ]
    }
   ],
   "source": [
    "# api 형태가 많음(그대로 쓰면 됨)\n",
    "data_row_list = [\n",
    "    {'이름':'김영철', '성별':'M', '나이':24, '키':179.4},\n",
    "    {'이름':'송윤지', '성별':'F', '나이':31, '키':161.0},\n",
    "    {'이름':'임수현', '성별':'F', '나이':26, '키':174}\n",
    "]\n",
    "\n",
    "data3 = pd.DataFrame(data_row_list)\n",
    "print(data3)"
   ]
  },
  {
   "cell_type": "markdown",
   "metadata": {},
   "source": [
    "## 2) 조회"
   ]
  },
  {
   "cell_type": "markdown",
   "metadata": {},
   "source": [
    "### (1) 이름으로 조회"
   ]
  },
  {
   "cell_type": "markdown",
   "metadata": {},
   "source": [
    "#### 열 조회"
   ]
  },
  {
   "cell_type": "code",
   "execution_count": 95,
   "metadata": {},
   "outputs": [
    {
     "data": {
      "text/plain": [
       "0    24\n",
       "1    31\n",
       "2    26\n",
       "Name: 나이, dtype: int64"
      ]
     },
     "execution_count": 95,
     "metadata": {},
     "output_type": "execute_result"
    }
   ],
   "source": [
    "data1['나이']"
   ]
  },
  {
   "cell_type": "code",
   "execution_count": 97,
   "metadata": {},
   "outputs": [
    {
     "data": {
      "text/html": [
       "<div>\n",
       "<style scoped>\n",
       "    .dataframe tbody tr th:only-of-type {\n",
       "        vertical-align: middle;\n",
       "    }\n",
       "\n",
       "    .dataframe tbody tr th {\n",
       "        vertical-align: top;\n",
       "    }\n",
       "\n",
       "    .dataframe thead th {\n",
       "        text-align: right;\n",
       "    }\n",
       "</style>\n",
       "<table border=\"1\" class=\"dataframe\">\n",
       "  <thead>\n",
       "    <tr style=\"text-align: right;\">\n",
       "      <th></th>\n",
       "      <th>나이</th>\n",
       "      <th>키</th>\n",
       "    </tr>\n",
       "  </thead>\n",
       "  <tbody>\n",
       "    <tr>\n",
       "      <th>0</th>\n",
       "      <td>24</td>\n",
       "      <td>179.4</td>\n",
       "    </tr>\n",
       "    <tr>\n",
       "      <th>1</th>\n",
       "      <td>31</td>\n",
       "      <td>161.0</td>\n",
       "    </tr>\n",
       "    <tr>\n",
       "      <th>2</th>\n",
       "      <td>26</td>\n",
       "      <td>174.0</td>\n",
       "    </tr>\n",
       "  </tbody>\n",
       "</table>\n",
       "</div>"
      ],
      "text/plain": [
       "   나이      키\n",
       "0  24  179.4\n",
       "1  31  161.0\n",
       "2  26  174.0"
      ]
     },
     "execution_count": 97,
     "metadata": {},
     "output_type": "execute_result"
    }
   ],
   "source": [
    "data1[['나이', '키']]"
   ]
  },
  {
   "cell_type": "markdown",
   "metadata": {},
   "source": [
    "#### 행 조회"
   ]
  },
  {
   "cell_type": "code",
   "execution_count": 226,
   "metadata": {},
   "outputs": [
    {
     "data": {
      "text/plain": [
       "성별        F\n",
       "나이       31\n",
       "키     161.0\n",
       "Name: 송윤지, dtype: object"
      ]
     },
     "execution_count": 226,
     "metadata": {},
     "output_type": "execute_result"
    }
   ],
   "source": [
    "#data1.loc[1]\n",
    "data4.loc['송윤지'] \n",
    "#data4.iloc[1, :]"
   ]
  },
  {
   "cell_type": "code",
   "execution_count": 102,
   "metadata": {},
   "outputs": [
    {
     "data": {
      "text/html": [
       "<div>\n",
       "<style scoped>\n",
       "    .dataframe tbody tr th:only-of-type {\n",
       "        vertical-align: middle;\n",
       "    }\n",
       "\n",
       "    .dataframe tbody tr th {\n",
       "        vertical-align: top;\n",
       "    }\n",
       "\n",
       "    .dataframe thead th {\n",
       "        text-align: right;\n",
       "    }\n",
       "</style>\n",
       "<table border=\"1\" class=\"dataframe\">\n",
       "  <thead>\n",
       "    <tr style=\"text-align: right;\">\n",
       "      <th></th>\n",
       "      <th>성별</th>\n",
       "      <th>나이</th>\n",
       "      <th>키</th>\n",
       "    </tr>\n",
       "    <tr>\n",
       "      <th>이름</th>\n",
       "      <th></th>\n",
       "      <th></th>\n",
       "      <th></th>\n",
       "    </tr>\n",
       "  </thead>\n",
       "  <tbody>\n",
       "    <tr>\n",
       "      <th>김영철</th>\n",
       "      <td>M</td>\n",
       "      <td>24</td>\n",
       "      <td>179.4</td>\n",
       "    </tr>\n",
       "    <tr>\n",
       "      <th>송윤지</th>\n",
       "      <td>F</td>\n",
       "      <td>31</td>\n",
       "      <td>161.0</td>\n",
       "    </tr>\n",
       "  </tbody>\n",
       "</table>\n",
       "</div>"
      ],
      "text/plain": [
       "    성별  나이      키\n",
       "이름               \n",
       "김영철  M  24  179.4\n",
       "송윤지  F  31  161.0"
      ]
     },
     "execution_count": 102,
     "metadata": {},
     "output_type": "execute_result"
    }
   ],
   "source": [
    "data4.loc[['김영철','송윤지']]"
   ]
  },
  {
   "cell_type": "markdown",
   "metadata": {},
   "source": [
    "#### 셀 조회"
   ]
  },
  {
   "cell_type": "code",
   "execution_count": 103,
   "metadata": {},
   "outputs": [
    {
     "data": {
      "text/plain": [
       "np.float64(179.4)"
      ]
     },
     "execution_count": 103,
     "metadata": {},
     "output_type": "execute_result"
    }
   ],
   "source": [
    "data4.loc['김영철', '키']"
   ]
  },
  {
   "cell_type": "markdown",
   "metadata": {},
   "source": [
    "### (2) 인덱스로 조회"
   ]
  },
  {
   "cell_type": "code",
   "execution_count": 175,
   "metadata": {},
   "outputs": [
    {
     "data": {
      "text/html": [
       "<div>\n",
       "<style scoped>\n",
       "    .dataframe tbody tr th:only-of-type {\n",
       "        vertical-align: middle;\n",
       "    }\n",
       "\n",
       "    .dataframe tbody tr th {\n",
       "        vertical-align: top;\n",
       "    }\n",
       "\n",
       "    .dataframe thead th {\n",
       "        text-align: right;\n",
       "    }\n",
       "</style>\n",
       "<table border=\"1\" class=\"dataframe\">\n",
       "  <thead>\n",
       "    <tr style=\"text-align: right;\">\n",
       "      <th></th>\n",
       "      <th>이름</th>\n",
       "      <th>성별</th>\n",
       "      <th>나이</th>\n",
       "      <th>키</th>\n",
       "    </tr>\n",
       "  </thead>\n",
       "  <tbody>\n",
       "    <tr>\n",
       "      <th>0</th>\n",
       "      <td>김영철</td>\n",
       "      <td>M</td>\n",
       "      <td>24</td>\n",
       "      <td>179.4</td>\n",
       "    </tr>\n",
       "    <tr>\n",
       "      <th>1</th>\n",
       "      <td>송윤지</td>\n",
       "      <td>F</td>\n",
       "      <td>31</td>\n",
       "      <td>161.0</td>\n",
       "    </tr>\n",
       "    <tr>\n",
       "      <th>2</th>\n",
       "      <td>임수현</td>\n",
       "      <td>F</td>\n",
       "      <td>26</td>\n",
       "      <td>174.0</td>\n",
       "    </tr>\n",
       "  </tbody>\n",
       "</table>\n",
       "</div>"
      ],
      "text/plain": [
       "    이름 성별  나이      키\n",
       "0  김영철  M  24  179.4\n",
       "1  송윤지  F  31  161.0\n",
       "2  임수현  F  26  174.0"
      ]
     },
     "execution_count": 175,
     "metadata": {},
     "output_type": "execute_result"
    }
   ],
   "source": [
    "data1"
   ]
  },
  {
   "cell_type": "markdown",
   "metadata": {},
   "source": [
    "#### 열 조회"
   ]
  },
  {
   "cell_type": "code",
   "execution_count": 180,
   "metadata": {},
   "outputs": [
    {
     "data": {
      "text/plain": [
       "0    24\n",
       "1    31\n",
       "2    26\n",
       "Name: 나이, dtype: int64"
      ]
     },
     "execution_count": 180,
     "metadata": {},
     "output_type": "execute_result"
    }
   ],
   "source": [
    "# 나이 index로 조회\n",
    "\n",
    "data1.iloc[:,2] #전체행(:), 열"
   ]
  },
  {
   "cell_type": "code",
   "execution_count": null,
   "metadata": {},
   "outputs": [
    {
     "data": {
      "text/html": [
       "<div>\n",
       "<style scoped>\n",
       "    .dataframe tbody tr th:only-of-type {\n",
       "        vertical-align: middle;\n",
       "    }\n",
       "\n",
       "    .dataframe tbody tr th {\n",
       "        vertical-align: top;\n",
       "    }\n",
       "\n",
       "    .dataframe thead th {\n",
       "        text-align: right;\n",
       "    }\n",
       "</style>\n",
       "<table border=\"1\" class=\"dataframe\">\n",
       "  <thead>\n",
       "    <tr style=\"text-align: right;\">\n",
       "      <th></th>\n",
       "      <th>성별</th>\n",
       "      <th>키</th>\n",
       "    </tr>\n",
       "  </thead>\n",
       "  <tbody>\n",
       "    <tr>\n",
       "      <th>0</th>\n",
       "      <td>M</td>\n",
       "      <td>179.4</td>\n",
       "    </tr>\n",
       "    <tr>\n",
       "      <th>1</th>\n",
       "      <td>F</td>\n",
       "      <td>161.0</td>\n",
       "    </tr>\n",
       "    <tr>\n",
       "      <th>2</th>\n",
       "      <td>F</td>\n",
       "      <td>174.0</td>\n",
       "    </tr>\n",
       "  </tbody>\n",
       "</table>\n",
       "</div>"
      ],
      "text/plain": [
       "  성별      키\n",
       "0  M  179.4\n",
       "1  F  161.0\n",
       "2  F  174.0"
      ]
     },
     "execution_count": 177,
     "metadata": {},
     "output_type": "execute_result"
    }
   ],
   "source": [
    "# 성별, 키 index로 조회\n",
    "\n",
    "data1.iloc[:,[1,3]] #전체행(:), 1,3열만"
   ]
  },
  {
   "cell_type": "markdown",
   "metadata": {},
   "source": [
    "#### 행 조회"
   ]
  },
  {
   "cell_type": "code",
   "execution_count": null,
   "metadata": {},
   "outputs": [
    {
     "name": "stdout",
     "output_type": "stream",
     "text": [
      "    성별  나이      키\n",
      "이름               \n",
      "김영철  M  24  179.4\n",
      "송윤지  F  31  161.0\n",
      "임수현  F  26  174.0\n"
     ]
    },
    {
     "data": {
      "text/plain": [
       "성별        F\n",
       "나이       31\n",
       "키     161.0\n",
       "Name: 송윤지, dtype: object"
      ]
     },
     "execution_count": 192,
     "metadata": {},
     "output_type": "execute_result"
    }
   ],
   "source": [
    "# 송윤지 학생의 데이터를 인덱스로 조회\n",
    "\n",
    "data4.iloc[1,:]\n",
    "#data4.loc['송윤지']"
   ]
  },
  {
   "cell_type": "code",
   "execution_count": 230,
   "metadata": {},
   "outputs": [
    {
     "data": {
      "text/html": [
       "<div>\n",
       "<style scoped>\n",
       "    .dataframe tbody tr th:only-of-type {\n",
       "        vertical-align: middle;\n",
       "    }\n",
       "\n",
       "    .dataframe tbody tr th {\n",
       "        vertical-align: top;\n",
       "    }\n",
       "\n",
       "    .dataframe thead th {\n",
       "        text-align: right;\n",
       "    }\n",
       "</style>\n",
       "<table border=\"1\" class=\"dataframe\">\n",
       "  <thead>\n",
       "    <tr style=\"text-align: right;\">\n",
       "      <th></th>\n",
       "      <th>성별</th>\n",
       "      <th>나이</th>\n",
       "      <th>키</th>\n",
       "    </tr>\n",
       "    <tr>\n",
       "      <th>이름</th>\n",
       "      <th></th>\n",
       "      <th></th>\n",
       "      <th></th>\n",
       "    </tr>\n",
       "  </thead>\n",
       "  <tbody>\n",
       "    <tr>\n",
       "      <th>송윤지</th>\n",
       "      <td>F</td>\n",
       "      <td>31</td>\n",
       "      <td>161.0</td>\n",
       "    </tr>\n",
       "    <tr>\n",
       "      <th>임수현</th>\n",
       "      <td>F</td>\n",
       "      <td>26</td>\n",
       "      <td>174.0</td>\n",
       "    </tr>\n",
       "  </tbody>\n",
       "</table>\n",
       "</div>"
      ],
      "text/plain": [
       "    성별  나이      키\n",
       "이름               \n",
       "송윤지  F  31  161.0\n",
       "임수현  F  26  174.0"
      ]
     },
     "execution_count": 230,
     "metadata": {},
     "output_type": "execute_result"
    }
   ],
   "source": [
    "# 송윤지, 임수현 학생의 데이터를 인덱스로 조회\n",
    "\n",
    "data4.iloc[1:3,:]"
   ]
  },
  {
   "cell_type": "markdown",
   "metadata": {},
   "source": [
    "#### 셀 조회"
   ]
  },
  {
   "cell_type": "code",
   "execution_count": 197,
   "metadata": {},
   "outputs": [
    {
     "data": {
      "text/plain": [
       "np.int64(31)"
      ]
     },
     "execution_count": 197,
     "metadata": {},
     "output_type": "execute_result"
    }
   ],
   "source": [
    "# 김영철 학생의 나이를 인덱스로 조회\n",
    "\n",
    "data4.iloc[1, 1]"
   ]
  },
  {
   "cell_type": "code",
   "execution_count": 239,
   "metadata": {},
   "outputs": [
    {
     "data": {
      "text/plain": [
       "'F'"
      ]
     },
     "execution_count": 239,
     "metadata": {},
     "output_type": "execute_result"
    }
   ],
   "source": [
    "# 송윤지 학생의 성별을 인덱스로 조회\n",
    "\n",
    "data4.iloc[1, 0]\n",
    "#data4.loc['송윤지', '성별']"
   ]
  },
  {
   "cell_type": "markdown",
   "metadata": {},
   "source": [
    "### (3) 조건부 조회"
   ]
  },
  {
   "cell_type": "markdown",
   "metadata": {},
   "source": [
    "## 3) 편집"
   ]
  },
  {
   "cell_type": "markdown",
   "metadata": {},
   "source": [
    "### (1) 인덱스 제거"
   ]
  },
  {
   "cell_type": "markdown",
   "metadata": {},
   "source": [
    "### (2) 데이터 병합"
   ]
  },
  {
   "cell_type": "markdown",
   "metadata": {},
   "source": [
    "### (3) 결측치 처리"
   ]
  },
  {
   "cell_type": "markdown",
   "metadata": {},
   "source": [
    "## 4) 통계"
   ]
  },
  {
   "cell_type": "markdown",
   "metadata": {},
   "source": [
    "# 3. 실습"
   ]
  },
  {
   "cell_type": "markdown",
   "metadata": {},
   "source": [
    "## 예제 1."
   ]
  },
  {
   "cell_type": "markdown",
   "metadata": {},
   "source": [
    "## 예제 2."
   ]
  },
  {
   "cell_type": "markdown",
   "metadata": {},
   "source": [
    "## 예제 3. 자동차 회사의연비 데이터"
   ]
  },
  {
   "cell_type": "markdown",
   "metadata": {},
   "source": [
    "* manufacturer : 회사명\n",
    "* cty : 도심연비\n",
    "* hwy : 고속도로 연비"
   ]
  },
  {
   "cell_type": "markdown",
   "metadata": {},
   "source": [
    "## 데이터 불러오기"
   ]
  },
  {
   "cell_type": "markdown",
   "metadata": {},
   "source": [
    "## 데이터 파악하기"
   ]
  },
  {
   "cell_type": "markdown",
   "metadata": {},
   "source": [
    "## Q1. 몇 개의 회사 데이터가 있나요?"
   ]
  },
  {
   "cell_type": "markdown",
   "metadata": {},
   "source": [
    "## Q2. 회사별로 참여한 자동차가 몇 대인지 파악하세요."
   ]
  },
  {
   "cell_type": "markdown",
   "metadata": {},
   "source": [
    "## Q3. 도심연비와 고속도로 연비를 평균낸 total 연비를 구하세요"
   ]
  },
  {
   "cell_type": "markdown",
   "metadata": {},
   "source": [
    "## Q4. total 연비 상위 10개 회사의 회사별 개수를 구하세요"
   ]
  },
  {
   "cell_type": "markdown",
   "metadata": {},
   "source": [
    "## +Quiz. 현대자동차의 평균 total 연비에 대한 평균값은?"
   ]
  },
  {
   "cell_type": "markdown",
   "metadata": {},
   "source": [
    "## Q5. 평균 total 연비보다 높은 자동차는 PASS, 낮은 자동차는 FAIL로 구분하세요."
   ]
  },
  {
   "cell_type": "markdown",
   "metadata": {},
   "source": [
    "## +Quiz. PASS인 자동차 중 가장 많은 숫자의 자동차 회사는?"
   ]
  }
 ],
 "metadata": {
  "kernelspec": {
   "display_name": "python-pandas",
   "language": "python",
   "name": "python3"
  },
  "language_info": {
   "codemirror_mode": {
    "name": "ipython",
    "version": 3
   },
   "file_extension": ".py",
   "mimetype": "text/x-python",
   "name": "python",
   "nbconvert_exporter": "python",
   "pygments_lexer": "ipython3",
   "version": "3.13.5"
  }
 },
 "nbformat": 4,
 "nbformat_minor": 2
}
